{
 "cells": [
  {
   "cell_type": "markdown",
   "id": "f98527b4-b9a3-44ff-86b5-f26555e26c0c",
   "metadata": {
    "tags": []
   },
   "source": [
    "# Data Science Tools and Ecosystem"
   ]
  },
  {
   "cell_type": "markdown",
   "id": "f4a72ab8-37e6-4925-85af-ceeff0782d26",
   "metadata": {},
   "source": [
    "In this notebook, Data Science tools and ecosystem are sumarized."
   ]
  },
  {
   "cell_type": "markdown",
   "id": "3e792255-fc42-49d9-9426-f94fd6348536",
   "metadata": {},
   "source": [
    "Objetives:\n",
    "\n",
    "- List of Popular Data Science Languages\n",
    "- List of Commonly Used Data Science Libraries\n",
    "- Table of the Three Most Used Open Source Development Tools for Data Science\n",
    "- Examples of Arithmetic Expressions"
   ]
  },
  {
   "cell_type": "markdown",
   "id": "2830f854-8fc8-489e-b501-379d88c83613",
   "metadata": {
    "tags": []
   },
   "source": [
    "Some of the popular Data Science languages are\n",
    "1. Python\n",
    "2. SQL\n",
    "3. R\n",
    "4. Scala\n",
    "5. Java\n",
    "6. Julia\n",
    "7. C++"
   ]
  },
  {
   "cell_type": "markdown",
   "id": "aedee2d0-675a-4ebf-8922-d4da4414cc09",
   "metadata": {},
   "source": [
    "Some of the most commonly used Data Science libraries are\n",
    "1. Pandas\n",
    "2. Scikit-learn\n",
    "3. Matplotlib\n",
    "4. Numpy\n",
    "5. Seaborn"
   ]
  },
  {
   "cell_type": "markdown",
   "id": "48c61107-4047-4ee5-8de3-5b57a83ebab3",
   "metadata": {},
   "source": [
    "|Data Science Tools|\n",
    "|-------|\n",
    "|Jupyter|\n",
    "|Apache Zeppelin|\n",
    "|RStudio|"
   ]
  },
  {
   "cell_type": "markdown",
   "id": "a2537359-89ce-4cd9-8f60-86e18fbbd942",
   "metadata": {},
   "source": [
    "### Below are a few examples of evaluating arithmetic expressions in Python"
   ]
  },
  {
   "cell_type": "code",
   "execution_count": 6,
   "id": "8896a4c7-c082-40e2-8553-e8245a139bf5",
   "metadata": {
    "tags": []
   },
   "outputs": [
    {
     "data": {
      "text/plain": [
       "17"
      ]
     },
     "execution_count": 6,
     "metadata": {},
     "output_type": "execute_result"
    }
   ],
   "source": [
    "# This a simple arithmetic expression to mutiply then add integers\n",
    "(3*4)+5"
   ]
  },
  {
   "cell_type": "code",
   "execution_count": 7,
   "id": "328d544f-c132-4ffd-931f-5199d0903c82",
   "metadata": {
    "tags": []
   },
   "outputs": [
    {
     "data": {
      "text/plain": [
       "3.3333333333333335"
      ]
     },
     "execution_count": 7,
     "metadata": {},
     "output_type": "execute_result"
    }
   ],
   "source": [
    "# This will convert 200 minutes to hours by diving by 60\n",
    "minutes = 200\n",
    "hours = minutes/60\n",
    "\n",
    "hours"
   ]
  },
  {
   "cell_type": "markdown",
   "id": "64f501ff-f6ac-470d-927f-47e39e78440b",
   "metadata": {},
   "source": [
    "## Author\n",
    "Lucas de Almeida Sabino Carvalho"
   ]
  }
 ],
 "metadata": {
  "kernelspec": {
   "display_name": "Python",
   "language": "python",
   "name": "conda-env-python-py"
  },
  "language_info": {
   "codemirror_mode": {
    "name": "ipython",
    "version": 3
   },
   "file_extension": ".py",
   "mimetype": "text/x-python",
   "name": "python",
   "nbconvert_exporter": "python",
   "pygments_lexer": "ipython3",
   "version": "3.7.12"
  }
 },
 "nbformat": 4,
 "nbformat_minor": 5
}
